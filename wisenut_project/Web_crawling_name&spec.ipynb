{
  "nbformat": 4,
  "nbformat_minor": 0,
  "metadata": {
    "colab": {
      "name": "Web_crawling",
      "provenance": [],
      "collapsed_sections": []
    },
    "kernelspec": {
      "name": "python3",
      "display_name": "Python 3"
    },
    "language_info": {
      "name": "python"
    },
    "gpuClass": "standard"
  },
  "cells": [
    {
      "cell_type": "code",
      "execution_count": 1,
      "metadata": {
        "id": "YJiFMUaFPn-V"
      },
      "outputs": [],
      "source": [
        "from bs4 import BeautifulSoup\n",
        "import pandas as pd\n",
        "import requests\n",
        "import re\n",
        "import time\n",
        "import datetime\n",
        "#import smtplib\n",
        "import csv"
      ]
    },
    {
      "cell_type": "code",
      "source": [
        "page =1\n",
        "url1 = \"https://search.danawa.com/dsearch.php?query=%EC%A0%84%EA%B8%B0%EC%9E%90%EC%A0%84%EA%B1%B0&originalQuery=%EC%A0%84%EA%B8%B0%EC%9E%90%EC%A0%84%EA%B1%B0&previousKeyword=%EC%A0%84%EA%B8%B0%EC%9E%90%EC%A0%84%EA%B1%B0&volumeType=allvs&page=\"\n",
        "url2 = \"&limit=40&sort=opinionDESC&list=list&minPrice=300000&boost=true&addDelivery=N&recommendedSort=Y&defaultUICategoryCode=13238802&defaultPhysicsCategoryCode=1825%7C9412%7C20064%7C59148&defaultVmTab=1239&defaultVaTab=508031&tab=goods\"\n",
        "hdr = {'User-Agent':'Mozilla/5.0 (Windows NT 6.3; Win64; x64) AppleWebKit/537.36 (KHTML, like Gecko) Chrome/63.0.3239.132 Safari/537.36'}\n",
        "\n",
        "filename = \"다나와.csv\"\n",
        "f = open(filename, \"w\", encoding=\"cp949\", newline='')\n",
        "writer = csv.writer(f)\n",
        "\n",
        "name = []\n",
        "spec = []\n",
        "\n",
        "for page in range(1,8):\n",
        "  res = requests.get(url1+str(page)+url2 , headers=hdr)\n",
        "  res.raise_for_status()\n",
        "  Soup1 = BeautifulSoup(res.content, 'lxml')\n",
        "  Soup2 = BeautifulSoup(Soup1.prettify(),'lxml')\n",
        "\n",
        "  products = Soup2.find_all('li',class_ = \"prod_item \")\n",
        "\n",
        "  for product in products:\n",
        "\n",
        "    product_name = product.find('a',class_ =\"click_log_product_standard_title_\" )\n",
        "    prod_name = str(product_name.get_text()).replace('\\n',' ').replace(' ','')\n",
        "\n",
        "\n",
        "    spec_list = product.find('div',class_ = 'spec_list')\n",
        "    prod_spec = str(spec_list.get_text()).replace('\\n',' ').replace(' ','')\n",
        "\n",
        "    name.append(prod_name)\n",
        "    spec.append(prod_spec)\n",
        " \n",
        "\n",
        "\n",
        "  \n",
        "\n"
      ],
      "metadata": {
        "id": "fz58d2c48bQV"
      },
      "execution_count": 12,
      "outputs": []
    },
    {
      "cell_type": "code",
      "source": [
        "with open('다나와.csv','w',encoding='utf-8-sig') as f:\n",
        "  writer = csv.writer(f)\n",
        "  writer.writerow(name)\n",
        "  writer.writerow(spec)"
      ],
      "metadata": {
        "id": "aJzzR-vpkSri"
      },
      "execution_count": 23,
      "outputs": []
    },
    {
      "cell_type": "code",
      "source": [
        "#connect website\n",
        "\n",
        "# URL = 'https://search.danawa.com/dsearch.php?query=%EC%A0%84%EA%B8%B0%EC%9E%90%EC%A0%84%EA%B1%B0&originalQuery=%EC%A0%84%EA%B8%B0%EC%9E%90%EC%A0%84%EA%B1%B0&previousKeyword=%EC%A0%84%EA%B8%B0%EC%9E%90%EC%A0%84%EA%B1%B0&volumeType=allvs&page=1&limit=40&sort=saveDESC&list=list&boost=true&addDelivery=N&recommendedSort=Y&defaultUICategoryCode=13238802&defaultPhysicsCategoryCode=1825%7C9412%7C20064%7C59148&defaultVmTab=1239&defaultVaTab=508031&tab=goods'\n",
        "# URL = \"https://search.danawa.com/dsearch.php?query=%EC%A0%84%EA%B8%B0%EC%9E%90%EC%A0%84%EA%B1%B0&originalQuery=%EC%A0%84%EA%B8%B0%EC%9E%90%EC%A0%84%EA%B1%B0&previousKeyword=%EC%A0%84%EA%B8%B0%EC%9E%90%EC%A0%84%EA%B1%B0&volumeType=allvs&page=1&limit=40&sort=opinionDESC&list=list&minPrice=300000&boost=true&addDelivery=N&recommendedSort=Y&defaultUICategoryCode=13238802&defaultPhysicsCategoryCode=1825%7C9412%7C20064%7C59148&defaultVmTab=1239&defaultVaTab=508031&tab=goods\"\n",
        "# page = requests.get(URL)\n",
        "# Soup1 = BeautifulSoup(page.content, \"lxml\")\n",
        "\n",
        "# Soup2 = BeautifulSoup(Soup1.prettify(), \"lxml\")\n",
        "\n",
        "\n",
        "\n",
        "\n"
      ],
      "metadata": {
        "id": "Me5l-d_777km"
      },
      "execution_count": 5,
      "outputs": []
    },
    {
      "cell_type": "code",
      "source": [
        "#for one list\n",
        "# product = Soup2.find('li',class_ = \"prod_item \")\n",
        "\n",
        "# print(product)\n",
        "# product_name = product.find('a',class_ =\"click_log_product_standard_title_\" )\n",
        "# prod_name = str(product_name.get_text()).replace('\\n',' ').replace(' ','')\n",
        "\n",
        "\n",
        "# spec_list = product.find('div',class_ = 'spec_list')\n",
        "# prod_spec = str(spec_list.get_text()).replace('\\n',' ').replace(' ','')\n",
        "\n",
        "# point_num = product.find('div', class_ = 'point_num')\n",
        "# point = str(point_num.get_text()).replace('\\n',' ').replace(' ','')\n",
        "\n",
        "# print(f'''\n",
        "# Product Name: {prod_name}\n",
        "# Product Spec: {prod_spec}\n",
        "# Product Point: {point}\n",
        "# ''')"
      ],
      "metadata": {
        "id": "NJnDR3gpHrVN"
      },
      "execution_count": null,
      "outputs": []
    },
    {
      "cell_type": "code",
      "source": [
        "# #iterate for all lists\n",
        "# products = Soup2.find_all('li',class_ = \"prod_item \")\n",
        "\n",
        "# for product in products:\n",
        "\n",
        "#   product_name = product.find('a',class_ =\"click_log_product_standard_title_\" )\n",
        "#   prod_name = str(product_name.get_text()).replace('\\n',' ').replace(' ','')\n",
        "\n",
        "\n",
        "#   spec_list = product.find('div',class_ = 'spec_list')\n",
        "#   prod_spec = str(spec_list.get_text()).replace('\\n',' ').replace(' ','')\n",
        "\n",
        "#   # point_num = product.find('div', class_ = 'point_num')\n",
        "#   # point = str(point_num.get_text()).replace('\\n',' ').replace(' ','')\n",
        "\n",
        "#   print(f'''\n",
        "# Product Name: {prod_name}\n",
        "# Product Spec: {prod_spec}\n",
        "# ''')\n",
        "  \n",
        "# print('')\n",
        "\n"
      ],
      "metadata": {
        "id": "Eib9MAqxNIn-"
      },
      "execution_count": null,
      "outputs": []
    },
    {
      "cell_type": "markdown",
      "source": [
        "li = list\n",
        "ul = unordered list contains lot of list tags \n"
      ],
      "metadata": {
        "id": "3lTxiW3gHO94"
      }
    }
  ]
}