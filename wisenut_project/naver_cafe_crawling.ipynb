{
 "cells": [
  {
   "cell_type": "code",
   "execution_count": 1,
   "id": "6b31a327",
   "metadata": {},
   "outputs": [
    {
     "name": "stderr",
     "output_type": "stream",
     "text": [
      "C:\\Users\\swoon\\AppData\\Local\\Temp/ipykernel_27272/3422593435.py:6: DeprecationWarning: executable_path has been deprecated, please pass in a Service object\n",
      "  browser = webdriver.Chrome(path)\n"
     ]
    }
   ],
   "source": [
    "from selenium import webdriver\n",
    "from bs4 import BeautifulSoup as bs\n",
    "import pandas as pd\n",
    "\n",
    "path = 'C:\\chromedriver_win32/chromedriver.exe'\n",
    "browser = webdriver.Chrome(path)\n",
    "headers = {\"User-Agent\":\"Mozilla/5.0 (Windows NT 10.0; Win64; x64) AppleWebKit/537.36 (KHTML, like Gecko) Chrome/95.0.4638.69 Safari/537.36\"}\n",
    "url = f'https://cafe.naver.com/ArticleSearchList.nhn?search.clubid=18314250&search.media=0&search.searchdate=all&search.exact=&search.include=&userDisplay=50&search.exclude=&search.option=0&search.sortBy=date&search.searchBy=0&search.includeAll=&search.query=%C0%FC%B1%E2%C0%DA%C0%FC%B0%C5&search.viewtype=title&search.page=1'"
   ]
  },
  {
   "cell_type": "code",
   "execution_count": 2,
   "id": "3b4f8c12",
   "metadata": {},
   "outputs": [],
   "source": [
    "browser.get(url)"
   ]
  },
  {
   "cell_type": "code",
   "execution_count": 3,
   "id": "fc0fd5bd",
   "metadata": {},
   "outputs": [],
   "source": [
    "from selenium.webdriver.common.by import By\n",
    "browser.find_element(By.CSS_SELECTOR,('#gnb_login_button > span.gnb_txt')).click()"
   ]
  },
  {
   "cell_type": "code",
   "execution_count": 4,
   "id": "7cd5015b",
   "metadata": {},
   "outputs": [],
   "source": [
    "my_id='my_id'\n",
    "my_pw='my_password'"
   ]
  },
  {
   "cell_type": "code",
   "execution_count": 5,
   "id": "5fc191bd",
   "metadata": {},
   "outputs": [],
   "source": [
    "import time\n",
    "browser.execute_script(\"document.getElementsByName('id')[0].value = '\" + my_id + \"'\")\n",
    "browser.execute_script(\"document.getElementsByName('pw')[0].value = '\" + my_pw + \"'\")\n",
    "\n",
    "time.sleep(1)"
   ]
  },
  {
   "cell_type": "code",
   "execution_count": 6,
   "id": "bfc92129",
   "metadata": {},
   "outputs": [],
   "source": [
    "button = browser.find_element(By.ID, \"log.login\")\n",
    "button.click()\n",
    "time.sleep(1)"
   ]
  },
  {
   "cell_type": "code",
   "execution_count": 7,
   "id": "ccd52eec",
   "metadata": {},
   "outputs": [],
   "source": [
    "browser.find_element(By.XPATH,'/html/body/div[2]/div/div[6]/div[1]/div[3]/div[2]/ul[7]/li[5]/a').click()"
   ]
  },
  {
   "cell_type": "code",
   "execution_count": 18,
   "id": "d2f40a90",
   "metadata": {},
   "outputs": [],
   "source": [
    "browser.switch_to.frame(\"cafe_main\")\n"
   ]
  },
  {
   "cell_type": "code",
   "execution_count": 17,
   "id": "1f35b70d",
   "metadata": {},
   "outputs": [],
   "source": [
    "Board = []\n",
    "Date = []\n",
    "Title = []\n",
    "Content = []\n",
    "Review_count = []"
   ]
  },
  {
   "cell_type": "code",
   "execution_count": 19,
   "id": "0a6e1cd6",
   "metadata": {
    "scrolled": true
   },
   "outputs": [
    {
     "ename": "KeyboardInterrupt",
     "evalue": "",
     "output_type": "error",
     "traceback": [
      "\u001b[1;31m---------------------------------------------------------------------------\u001b[0m",
      "\u001b[1;31mKeyboardInterrupt\u001b[0m                         Traceback (most recent call last)",
      "\u001b[1;32m~\\AppData\\Local\\Temp/ipykernel_27272/4285183491.py\u001b[0m in \u001b[0;36m<module>\u001b[1;34m\u001b[0m\n\u001b[0;32m      4\u001b[0m     \u001b[1;32mfor\u001b[0m \u001b[0mi\u001b[0m \u001b[1;32min\u001b[0m \u001b[0mrange\u001b[0m\u001b[1;33m(\u001b[0m\u001b[1;36m1\u001b[0m\u001b[1;33m,\u001b[0m \u001b[1;36m16\u001b[0m\u001b[1;33m)\u001b[0m\u001b[1;33m:\u001b[0m\u001b[1;33m\u001b[0m\u001b[1;33m\u001b[0m\u001b[0m\n\u001b[0;32m      5\u001b[0m         \u001b[0mbrowser\u001b[0m\u001b[1;33m.\u001b[0m\u001b[0mfind_element\u001b[0m\u001b[1;33m(\u001b[0m\u001b[0mBy\u001b[0m\u001b[1;33m.\u001b[0m\u001b[0mXPATH\u001b[0m\u001b[1;33m,\u001b[0m\u001b[1;34mf'/html/body/div[1]/div/div[4]/table/tbody/tr[{i}]/td[1]/div[2]/div/a[1]'\u001b[0m\u001b[1;33m)\u001b[0m\u001b[1;33m.\u001b[0m\u001b[0mclick\u001b[0m\u001b[1;33m(\u001b[0m\u001b[1;33m)\u001b[0m\u001b[1;33m\u001b[0m\u001b[1;33m\u001b[0m\u001b[0m\n\u001b[1;32m----> 6\u001b[1;33m         \u001b[0mtime\u001b[0m\u001b[1;33m.\u001b[0m\u001b[0msleep\u001b[0m\u001b[1;33m(\u001b[0m\u001b[1;36m1\u001b[0m\u001b[1;33m)\u001b[0m\u001b[1;33m\u001b[0m\u001b[1;33m\u001b[0m\u001b[0m\n\u001b[0m\u001b[0;32m      7\u001b[0m         \u001b[0mboard\u001b[0m \u001b[1;33m=\u001b[0m \u001b[0mbrowser\u001b[0m\u001b[1;33m.\u001b[0m\u001b[0mfind_element\u001b[0m\u001b[1;33m(\u001b[0m\u001b[0mBy\u001b[0m\u001b[1;33m.\u001b[0m\u001b[0mXPATH\u001b[0m\u001b[1;33m,\u001b[0m\u001b[1;34m'/html/body/div/div/div/div[2]/div[1]/div[1]/a'\u001b[0m\u001b[1;33m)\u001b[0m\u001b[1;33m.\u001b[0m\u001b[0mtext\u001b[0m\u001b[1;33m\u001b[0m\u001b[1;33m\u001b[0m\u001b[0m\n\u001b[0;32m      8\u001b[0m         \u001b[0mdate\u001b[0m \u001b[1;33m=\u001b[0m \u001b[0mbrowser\u001b[0m\u001b[1;33m.\u001b[0m\u001b[0mfind_element\u001b[0m\u001b[1;33m(\u001b[0m\u001b[0mBy\u001b[0m\u001b[1;33m.\u001b[0m\u001b[0mXPATH\u001b[0m\u001b[1;33m,\u001b[0m\u001b[1;34m'/html/body/div/div/div/div[2]/div[1]/div[2]/div/div[2]/span[1]'\u001b[0m\u001b[1;33m)\u001b[0m\u001b[1;33m.\u001b[0m\u001b[0mtext\u001b[0m\u001b[1;33m\u001b[0m\u001b[1;33m\u001b[0m\u001b[0m\n",
      "\u001b[1;31mKeyboardInterrupt\u001b[0m: "
     ]
    }
   ],
   "source": [
    "for k in range(1,11):\n",
    "    browser.find_element(By.XPATH,f'/html/body/div[1]/div/div[6]/a[{k}]').click()\n",
    "    time.sleep(1)\n",
    "    for i in range(1, 16):\n",
    "        browser.find_element(By.XPATH,f'/html/body/div[1]/div/div[4]/table/tbody/tr[{i}]/td[1]/div[2]/div/a[1]').click()\n",
    "        time.sleep(1)\n",
    "        board = browser.find_element(By.XPATH,'/html/body/div/div/div/div[2]/div[1]/div[1]/a').text\n",
    "        date = browser.find_element(By.XPATH,'/html/body/div/div/div/div[2]/div[1]/div[2]/div/div[2]/span[1]').text\n",
    "        title = browser.find_element(By.XPATH,'/html/body/div/div/div/div[2]/div[1]/div[1]/div/h3').text\n",
    "        content = browser.find_element(By.XPATH,'/html/body/div/div/div/div[2]/div[2]/div[1]/div').text\n",
    "        review = browser.find_element(By.XPATH,'/html/body/div/div/div/div[2]/div[1]/div[3]/a[1]/strong').text\n",
    "        Board.append(board)\n",
    "        Date.append(date)\n",
    "        Title.append(title)\n",
    "        Content.append(content)\n",
    "        Review_count.append(review)\n",
    "        browser.back()\n",
    "        time.sleep(1)\n",
    "        browser.switch_to.frame(\"cafe_main\")\n",
    "browser.find_element(By.XPATH,'/html/body/div[1]/div/div[6]/a[11]').click()\n",
    "for j in range(5):\n",
    "    for k in range(2,12):\n",
    "        browser.find_element(By.XPATH,f'/html/body/div[1]/div/div[6]/a[{k}]').click()\n",
    "        time.sleep(1)\n",
    "        for i in range(1, 16):\n",
    "            browser.find_element(By.XPATH,f'/html/body/div[1]/div/div[4]/table/tbody/tr[{i}]/td[1]/div[2]/div/a[1]').click()\n",
    "            time.sleep(1)\n",
    "            board = browser.find_element(By.XPATH,'/html/body/div/div/div/div[2]/div[1]/div[1]/a').text\n",
    "            date = browser.find_element(By.XPATH,'/html/body/div/div/div/div[2]/div[1]/div[2]/div/div[2]/span[1]').text\n",
    "            title = browser.find_element(By.XPATH,'/html/body/div/div/div/div[2]/div[1]/div[1]/div/h3').text\n",
    "            content = browser.find_element(By.XPATH,'/html/body/div/div/div/div[2]/div[2]/div[1]/div/div[1]/div/div/div/div').text\n",
    "            review = browser.find_element(By.XPATH,'/html/body/div/div/div/div[2]/div[1]/div[3]/a[1]/strong').text\n",
    "            Board.append(board)\n",
    "            Date.append(date)\n",
    "            Title.append(title)\n",
    "            Content.append(content)\n",
    "            Review_count.append(review)\n",
    "            browser.back()\n",
    "            time.sleep(1)\n",
    "            browser.switch_to.frame(\"cafe_main\")\n",
    "    browser.find_element(By.XPATH,'/html/body/div[1]/div/div[6]/a[12]').click()"
   ]
  },
  {
   "cell_type": "code",
   "execution_count": 20,
   "id": "bcb6cf1a",
   "metadata": {},
   "outputs": [],
   "source": [
    "data = pd.DataFrame({'Board':Board, 'Date':Date, 'Title':Title, 'Content':Content, 'Review_Count':Review_count})"
   ]
  },
  {
   "cell_type": "code",
   "execution_count": 12,
   "id": "88ee512b",
   "metadata": {},
   "outputs": [],
   "source": [
    "data.to_csv('./모두스포츠.csv', encoding='utf-8-sig', index=False)"
   ]
  },
  {
   "cell_type": "code",
   "execution_count": 21,
   "id": "f8983c0d",
   "metadata": {},
   "outputs": [
    {
     "data": {
      "text/html": [
       "<div>\n",
       "<style scoped>\n",
       "    .dataframe tbody tr th:only-of-type {\n",
       "        vertical-align: middle;\n",
       "    }\n",
       "\n",
       "    .dataframe tbody tr th {\n",
       "        vertical-align: top;\n",
       "    }\n",
       "\n",
       "    .dataframe thead th {\n",
       "        text-align: right;\n",
       "    }\n",
       "</style>\n",
       "<table border=\"1\" class=\"dataframe\">\n",
       "  <thead>\n",
       "    <tr style=\"text-align: right;\">\n",
       "      <th></th>\n",
       "      <th>Board</th>\n",
       "      <th>Date</th>\n",
       "      <th>Title</th>\n",
       "      <th>Content</th>\n",
       "      <th>Review_Count</th>\n",
       "    </tr>\n",
       "  </thead>\n",
       "  <tbody>\n",
       "    <tr>\n",
       "      <th>0</th>\n",
       "      <td>모두스포츠</td>\n",
       "      <td>2022.08.03. 10:27</td>\n",
       "      <td>악 ㅠㅠ 애지중지하던 자전거 잡빠링 후 소음..</td>\n",
       "      <td>스탠드로 시워뒀는데 제가 세워서 커피마시다가 툭 쳐서 넘어가붓네요ㅠㅠ 체인빠지고 페...</td>\n",
       "      <td>13</td>\n",
       "    </tr>\n",
       "    <tr>\n",
       "      <th>1</th>\n",
       "      <td>모두스포츠</td>\n",
       "      <td>2022.08.02. 22:47</td>\n",
       "      <td>자전거를 못 타니 프리휠이라도 교체를...</td>\n",
       "      <td>했습니다~~ ㅎㅎㅎ\\n안녕하세요~~~ 오랜만에 글 올립니다~!! ^^\\n지난 달 초...</td>\n",
       "      <td>7</td>\n",
       "    </tr>\n",
       "    <tr>\n",
       "      <th>2</th>\n",
       "      <td>모두스포츠</td>\n",
       "      <td>2022.07.22. 12:26</td>\n",
       "      <td>드디어 내일 찾으러 갑니다</td>\n",
       "      <td>미리 전화 주문해놨고\\n조립해놓은거 내일 찾으러 갑니다 ㅋㅋ\\n간단한 튜닝해서 사진...</td>\n",
       "      <td>4</td>\n",
       "    </tr>\n",
       "    <tr>\n",
       "      <th>3</th>\n",
       "      <td>모두스포츠</td>\n",
       "      <td>2022.07.21. 13:12</td>\n",
       "      <td>재미로 계산해본 즌기자전거 뽕뽑기</td>\n",
       "      <td>현재 개솔린 l당 2000원 잡고..\\n제 하브차량 공인연비 16으로 잡고..\\n부...</td>\n",
       "      <td>9</td>\n",
       "    </tr>\n",
       "    <tr>\n",
       "      <th>4</th>\n",
       "      <td>모두스포츠</td>\n",
       "      <td>2022.07.18. 19:37</td>\n",
       "      <td>후사경</td>\n",
       "      <td>후사경 쓰시는분?\\n부릉이에 추천좀 해주시면\\n감사합니다~~!!(_  _)</td>\n",
       "      <td>2</td>\n",
       "    </tr>\n",
       "    <tr>\n",
       "      <th>5</th>\n",
       "      <td>모두스포츠</td>\n",
       "      <td>2022.07.17. 22:43</td>\n",
       "      <td>부릉부릉 20!!</td>\n",
       "      <td>부릉20 입문 했습니다\\n 모두 안라하시고 부릉이에대해 공부해보겠습니당</td>\n",
       "      <td>2</td>\n",
       "    </tr>\n",
       "    <tr>\n",
       "      <th>6</th>\n",
       "      <td>모두스포츠</td>\n",
       "      <td>2022.07.15. 13:00</td>\n",
       "      <td>날이 좋아서~</td>\n",
       "      <td>부릉이 언덕에서도 잘나가네요ㅎㅎ \\n만족합니다~~\\n힐링 라이딩하고 맛점하고 들어왔...</td>\n",
       "      <td>3</td>\n",
       "    </tr>\n",
       "  </tbody>\n",
       "</table>\n",
       "</div>"
      ],
      "text/plain": [
       "   Board               Date                       Title  \\\n",
       "0  모두스포츠  2022.08.03. 10:27  악 ㅠㅠ 애지중지하던 자전거 잡빠링 후 소음..   \n",
       "1  모두스포츠  2022.08.02. 22:47     자전거를 못 타니 프리휠이라도 교체를...   \n",
       "2  모두스포츠  2022.07.22. 12:26              드디어 내일 찾으러 갑니다   \n",
       "3  모두스포츠  2022.07.21. 13:12          재미로 계산해본 즌기자전거 뽕뽑기   \n",
       "4  모두스포츠  2022.07.18. 19:37                         후사경   \n",
       "5  모두스포츠  2022.07.17. 22:43                   부릉부릉 20!!   \n",
       "6  모두스포츠  2022.07.15. 13:00                     날이 좋아서~   \n",
       "\n",
       "                                             Content Review_Count  \n",
       "0  스탠드로 시워뒀는데 제가 세워서 커피마시다가 툭 쳐서 넘어가붓네요ㅠㅠ 체인빠지고 페...           13  \n",
       "1  했습니다~~ ㅎㅎㅎ\\n안녕하세요~~~ 오랜만에 글 올립니다~!! ^^\\n지난 달 초...            7  \n",
       "2  미리 전화 주문해놨고\\n조립해놓은거 내일 찾으러 갑니다 ㅋㅋ\\n간단한 튜닝해서 사진...            4  \n",
       "3  현재 개솔린 l당 2000원 잡고..\\n제 하브차량 공인연비 16으로 잡고..\\n부...            9  \n",
       "4          후사경 쓰시는분?\\n부릉이에 추천좀 해주시면\\n감사합니다~~!!(_  _)            2  \n",
       "5            부릉20 입문 했습니다\\n 모두 안라하시고 부릉이에대해 공부해보겠습니당            2  \n",
       "6  부릉이 언덕에서도 잘나가네요ㅎㅎ \\n만족합니다~~\\n힐링 라이딩하고 맛점하고 들어왔...            3  "
      ]
     },
     "execution_count": 21,
     "metadata": {},
     "output_type": "execute_result"
    }
   ],
   "source": [
    "data"
   ]
  },
  {
   "cell_type": "code",
   "execution_count": 76,
   "id": "ab458264",
   "metadata": {},
   "outputs": [
    {
     "data": {
      "text/plain": [
       "Content    189\n",
       "Title      251\n",
       "dtype: int64"
      ]
     },
     "execution_count": 76,
     "metadata": {},
     "output_type": "execute_result"
    }
   ],
   "source": [
    "data[['Content','Title']].nunique()"
   ]
  },
  {
   "cell_type": "code",
   "execution_count": 18,
   "id": "34412490",
   "metadata": {
    "scrolled": true
   },
   "outputs": [
    {
     "name": "stdout",
     "output_type": "stream",
     "text": [
      "Requirement already satisfied: selenium in c:\\users\\swoon\\anaconda3\\lib\\site-packages (4.3.0)Note: you may need to restart the kernel to use updated packages.\n",
      "\n",
      "Requirement already satisfied: trio-websocket~=0.9 in c:\\users\\swoon\\anaconda3\\lib\\site-packages (from selenium) (0.9.2)\n",
      "Requirement already satisfied: trio~=0.17 in c:\\users\\swoon\\anaconda3\\lib\\site-packages (from selenium) (0.21.0)\n",
      "Requirement already satisfied: urllib3[secure,socks]~=1.26 in c:\\users\\swoon\\anaconda3\\lib\\site-packages (from selenium) (1.26.7)\n",
      "Requirement already satisfied: async-generator>=1.9 in c:\\users\\swoon\\anaconda3\\lib\\site-packages (from trio~=0.17->selenium) (1.10)\n",
      "Requirement already satisfied: cffi>=1.14 in c:\\users\\swoon\\anaconda3\\lib\\site-packages (from trio~=0.17->selenium) (1.14.6)\n",
      "Requirement already satisfied: attrs>=19.2.0 in c:\\users\\swoon\\anaconda3\\lib\\site-packages (from trio~=0.17->selenium) (21.2.0)\n",
      "Requirement already satisfied: outcome in c:\\users\\swoon\\anaconda3\\lib\\site-packages (from trio~=0.17->selenium) (1.2.0)\n",
      "Requirement already satisfied: idna in c:\\users\\swoon\\anaconda3\\lib\\site-packages (from trio~=0.17->selenium) (3.2)\n",
      "Requirement already satisfied: sniffio in c:\\users\\swoon\\anaconda3\\lib\\site-packages (from trio~=0.17->selenium) (1.2.0)\n",
      "Requirement already satisfied: sortedcontainers in c:\\users\\swoon\\anaconda3\\lib\\site-packages (from trio~=0.17->selenium) (2.4.0)\n",
      "Requirement already satisfied: wsproto>=0.14 in c:\\users\\swoon\\anaconda3\\lib\\site-packages (from trio-websocket~=0.9->selenium) (1.1.0)\n",
      "Requirement already satisfied: pyOpenSSL>=0.14 in c:\\users\\swoon\\anaconda3\\lib\\site-packages (from urllib3[secure,socks]~=1.26->selenium) (21.0.0)\n",
      "Requirement already satisfied: cryptography>=1.3.4 in c:\\users\\swoon\\anaconda3\\lib\\site-packages (from urllib3[secure,socks]~=1.26->selenium) (3.4.8)\n",
      "Requirement already satisfied: certifi in c:\\users\\swoon\\anaconda3\\lib\\site-packages (from urllib3[secure,socks]~=1.26->selenium) (2021.10.8)\n",
      "Requirement already satisfied: PySocks!=1.5.7,<2.0,>=1.5.6 in c:\\users\\swoon\\anaconda3\\lib\\site-packages (from urllib3[secure,socks]~=1.26->selenium) (1.7.1)\n",
      "Requirement already satisfied: pycparser in c:\\users\\swoon\\anaconda3\\lib\\site-packages (from cffi>=1.14->trio~=0.17->selenium) (2.20)\n",
      "Requirement already satisfied: six>=1.5.2 in c:\\users\\swoon\\anaconda3\\lib\\site-packages (from pyOpenSSL>=0.14->urllib3[secure,socks]~=1.26->selenium) (1.16.0)\n",
      "Requirement already satisfied: h11<1,>=0.9.0 in c:\\users\\swoon\\anaconda3\\lib\\site-packages (from wsproto>=0.14->trio-websocket~=0.9->selenium) (0.13.0)\n",
      "\n",
      "[notice] A new release of pip available: 22.2 -> 22.2.1\n",
      "[notice] To update, run: python.exe -m pip install --upgrade pip\n"
     ]
    }
   ],
   "source": [
    "pip install selenium"
   ]
  },
  {
   "cell_type": "code",
   "execution_count": 99,
   "id": "6ee16203",
   "metadata": {},
   "outputs": [
    {
     "name": "stderr",
     "output_type": "stream",
     "text": [
      "C:\\Users\\swoon\\AppData\\Local\\Temp/ipykernel_17684/325171529.py:4: DeprecationWarning: executable_path has been deprecated, please pass in a Service object\n",
      "  browser = webdriver.Chrome(path)\n"
     ]
    }
   ],
   "source": []
  }
 ],
 "metadata": {
  "kernelspec": {
   "display_name": "Python 3.8.8 ('base')",
   "language": "python",
   "name": "python3"
  },
  "language_info": {
   "codemirror_mode": {
    "name": "ipython",
    "version": 3
   },
   "file_extension": ".py",
   "mimetype": "text/x-python",
   "name": "python",
   "nbconvert_exporter": "python",
   "pygments_lexer": "ipython3",
   "version": "3.8.8"
  },
  "vscode": {
   "interpreter": {
    "hash": "52d9bec1bd0dd1d60d9f041927d73dc99a1ae836019e05c066f33f67e6a94d9c"
   }
  }
 },
 "nbformat": 4,
 "nbformat_minor": 5
}
